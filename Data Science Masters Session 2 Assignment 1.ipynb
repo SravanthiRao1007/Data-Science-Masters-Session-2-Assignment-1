{
 "cells": [
  {
   "cell_type": "code",
   "execution_count": 7,
   "metadata": {},
   "outputs": [
    {
     "name": "stdout",
     "output_type": "stream",
     "text": [
      "Please Input Sequence of comma separated nos : 1,2,3,4.24,9999\n",
      "The desired list is as below :\n",
      "['1,2,3,4.24,9999']\n"
     ]
    }
   ],
   "source": [
    "# Sravanthi Session 2 Assignment 1\n",
    "\n",
    "Inp = input(\"Please Input Sequence of comma separated nos : \")\n",
    "list = Inp.split()\n",
    "print(\"The desired list is as below :\")\n",
    "print(list)\n"
   ]
  },
  {
   "cell_type": "code",
   "execution_count": null,
   "metadata": {},
   "outputs": [],
   "source": []
  }
 ],
 "metadata": {
  "kernelspec": {
   "display_name": "Python 3",
   "language": "python",
   "name": "python3"
  },
  "language_info": {
   "codemirror_mode": {
    "name": "ipython",
    "version": 3
   },
   "file_extension": ".py",
   "mimetype": "text/x-python",
   "name": "python",
   "nbconvert_exporter": "python",
   "pygments_lexer": "ipython3",
   "version": "3.6.5"
  }
 },
 "nbformat": 4,
 "nbformat_minor": 2
}
